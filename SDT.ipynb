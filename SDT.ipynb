{
 "cells": [
  {
   "cell_type": "code",
   "execution_count": 5,
   "metadata": {},
   "outputs": [
    {
     "data": {
      "application/vnd.jupyter.widget-view+json": {
       "model_id": "42697ec422334306b7845b5345d099fb",
       "version_major": 2,
       "version_minor": 0
      },
      "text/plain": [
       "interactive(children=(FloatSlider(value=0.0, continuous_update=False, description='c', max=5.0, min=-5.0), Out…"
      ]
     },
     "metadata": {},
     "output_type": "display_data"
    },
    {
     "data": {
      "text/plain": [
       "<function __main__.plotnorm(c)>"
      ]
     },
     "execution_count": 5,
     "metadata": {},
     "output_type": "execute_result"
    }
   ],
   "source": [
    "# -*- coding: utf-8 -*-\n",
    "\"\"\"\n",
    "Created on Mon Sep 24 10:36:52 2018\n",
    "\n",
    "@author: ksander\n",
    "\n",
    "Jupyter notebook which illustrates Signal Detection Theory.\n",
    "In situations where a signal may be present among noise, an observer may decide\n",
    "a signal is present when a certain criterion is exceeded. In such a scenario,\n",
    "there are four possible outcomes:\n",
    "1. There is only noise, and the observer correctly decides there is none.\n",
    "    >This is called a Correct Rejection\n",
    "2. There is only noise, but the observer erroneously decides there is one.\n",
    "    >This is called a False Alarm\n",
    "3. There is a signal, but the observer decides there is none.\n",
    "    >This is called a Miss\n",
    "4. There is a signal, and the observer decides there is one.\n",
    "    >This is called a hit.\n",
    "Depending on the observer's criterion (and the discriminability of the signal\n",
    "from noise) the ratio of the four outcomes varies. This notebook features a\n",
    "slider which controls the value of the criterion, and allows the user of the\n",
    "script to visualise how the ratio of the outcomes changes for a given noise and\n",
    "signal distribution.\n",
    "\n",
    "\n",
    "\"\"\"\n",
    "\n",
    "from ipywidgets import FloatSlider, interact\n",
    "import numpy as np\n",
    "from scipy.stats import norm\n",
    "import matplotlib.pyplot as plt\n",
    "\n",
    "# %matplotlib inline\n",
    "\n",
    "x = np.arange(-5.0, 5.0, 0.01)\n",
    "Y_CR = np.zeros(np.size(x))\n",
    "Y_FA = np.zeros(np.size(x))\n",
    "Y_M = np.zeros(np.size(x))\n",
    "Y_H = np.zeros(np.size(x))\n",
    "ind = ['CR', 'M', 'H', 'FA']\n",
    "\n",
    "\n",
    "def plotnorm(c):\n",
    "\n",
    "    N = norm.pdf(x, -1, 1)\n",
    "    S = norm.pdf(x, 1, 1)\n",
    "    # plt.plot(x,N,color='black')\n",
    "    # plt.plot(x,S,color='black')\n",
    "    ax1 = plt.subplot(1, 2, 1)\n",
    "    plt.plot([c, c], [0, 0.5], linewidth=2.0, color='black')\n",
    "\n",
    "    # Correct Rejection: Y is N up to the intersection\n",
    "    plt.fill(np.append(x[x < c], c), np.append(N[x < c], 0), facecolor='red',\n",
    "             alpha=.75)\n",
    "\n",
    "    # Misses: Y is S up to the intersection\n",
    "    plt.fill(np.append(x[x < c], c), np.append(S[x < c], 0),\n",
    "             facecolor='orange', alpha=.75)\n",
    "\n",
    "    # Hits: Y is S after the intersection\n",
    "    plt.fill(np.append(x[x > c], c), np.append(S[x > c], 0), facecolor='blue',\n",
    "             alpha=.75)\n",
    "\n",
    "    # False Alarms: Y is N after the intersection\n",
    "    plt.fill(np.append(x[x > c], c), np.append(N[x > c], 0), facecolor='green',\n",
    "             alpha=.75)\n",
    "\n",
    "    ax1.set_ylim([0, 0.5])\n",
    "\n",
    "    ax2 = plt.subplot(1, 2, 2)\n",
    "\n",
    "    CR, M, H, FA = plt.bar(ind, [norm.cdf(c, -1, 1), norm.cdf(c, 1, 1),\n",
    "                                 1-norm.cdf(c, 1, 1), 1-norm.cdf(c, -1, 1)])\n",
    "\n",
    "    CR.set_facecolor('r')\n",
    "    CR.set_alpha(0.75)\n",
    "\n",
    "    M.set_facecolor('orange')\n",
    "    M.set_alpha(0.75)\n",
    "\n",
    "    H.set_facecolor('blue')\n",
    "    H.set_alpha(0.75)\n",
    "\n",
    "    FA.set_facecolor('green')\n",
    "    FA.set_alpha(0.75)\n",
    "\n",
    "    ax2.set_ylim([0, 1])\n",
    "\n",
    "    plt.show()\n",
    "\n",
    "\n",
    "interact(plotnorm, c=FloatSlider(min=-5, max=5, step=0.1,\n",
    "                                 continuous_update=False))\n"
   ]
  },
  {
   "cell_type": "code",
   "execution_count": null,
   "metadata": {},
   "outputs": [],
   "source": []
  }
 ],
 "metadata": {
  "kernelspec": {
   "display_name": "Python 3",
   "language": "python",
   "name": "python3"
  },
  "language_info": {
   "codemirror_mode": {
    "name": "ipython",
    "version": 3
   },
   "file_extension": ".py",
   "mimetype": "text/x-python",
   "name": "python",
   "nbconvert_exporter": "python",
   "pygments_lexer": "ipython3",
   "version": "3.6.6"
  }
 },
 "nbformat": 4,
 "nbformat_minor": 2
}
