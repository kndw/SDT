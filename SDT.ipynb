{
 "cells": [
  {
   "cell_type": "code",
   "execution_count": 23,
   "metadata": {},
   "outputs": [
    {
     "data": {
      "application/vnd.jupyter.widget-view+json": {
       "model_id": "1d51cd5d994d4172bc2ca23b2656b696",
       "version_major": 2,
       "version_minor": 0
      },
      "text/plain": [
       "interactive(children=(FloatSlider(value=0.0, continuous_update=False, description='c', max=5.0, min=-5.0), Out…"
      ]
     },
     "metadata": {},
     "output_type": "display_data"
    },
    {
     "data": {
      "text/plain": [
       "<function __main__.plotnorm(c)>"
      ]
     },
     "execution_count": 23,
     "metadata": {},
     "output_type": "execute_result"
    }
   ],
   "source": [
    "from ipywidgets import *\n",
    "import numpy as np\n",
    "from scipy.stats import norm\n",
    "import matplotlib.pyplot as plt\n",
    "\n",
    "x = np.arange(-5.0, 5.0, 0.01)\n",
    "Y_CR = np.zeros(np.size(x))\n",
    "Y_FA = np.zeros(np.size(x))\n",
    "Y_M = np.zeros(np.size(x))\n",
    "Y_H = np.zeros(np.size(x))\n",
    "\n",
    "def plotnorm(c):\n",
    "\n",
    "    N = norm.pdf(x,-1,1)\n",
    "    S = norm.pdf(x,1,1)\n",
    "    #plt.plot(x,N,color='black')\n",
    "    #plt.plot(x,S,color='black')\n",
    "    plt.plot([c, c], [0, 0.4], linewidth=2.0, color = 'black')\n",
    "    \n",
    "    # Correct Rejection: Y is N up to the intersection\n",
    "    patch1 = plt.fill(np.append(x[x<c],c), np.append(N[x<c],0), facecolor='red', alpha=.75)\n",
    "\n",
    "    # Misses: Y is S up to the intersection\n",
    "    patch2 = plt.fill(np.append(x[x<c],c), np.append(S[x<c],0), facecolor='orange', alpha=.75)\n",
    "\n",
    "    # Hits: Y is S after the intersection\n",
    "    patch3 = plt.fill(np.append(x[x>c],c), np.append(S[x>c],0), facecolor='blue', alpha=.75)\n",
    "    \n",
    "    # False Alarms: Y is N after the intersection\n",
    "    patch4 = plt.fill(np.append(x[x>c],c), np.append(N[x>c],0), facecolor='green', alpha=.75)\n",
    "    \n",
    "    plt.show()   \n",
    "\n",
    "interact(plotnorm, c=FloatSlider(min=-5, max=5, step=0.1, continuous_update=False))"
   ]
  },
  {
   "cell_type": "code",
   "execution_count": null,
   "metadata": {},
   "outputs": [],
   "source": []
  }
 ],
 "metadata": {
  "kernelspec": {
   "display_name": "Python 3",
   "language": "python",
   "name": "python3"
  },
  "language_info": {
   "codemirror_mode": {
    "name": "ipython",
    "version": 3
   },
   "file_extension": ".py",
   "mimetype": "text/x-python",
   "name": "python",
   "nbconvert_exporter": "python",
   "pygments_lexer": "ipython3",
   "version": "3.6.5"
  }
 },
 "nbformat": 4,
 "nbformat_minor": 2
}
